{
  "nbformat": 4,
  "nbformat_minor": 0,
  "metadata": {
    "colab": {
      "name": "P-Median Problem.ipynb",
      "provenance": [],
      "collapsed_sections": [],
      "authorship_tag": "ABX9TyNtv1o4qmD6VLanZ0Ua2/dn",
      "include_colab_link": true
    },
    "kernelspec": {
      "name": "python3",
      "display_name": "Python 3"
    }
  },
  "cells": [
    {
      "cell_type": "markdown",
      "metadata": {
        "id": "view-in-github",
        "colab_type": "text"
      },
      "source": [
        "<a href=\"https://colab.research.google.com/github/HerlanAssis/P-median-problem/blob/main/P_Median_Problem.ipynb\" target=\"_parent\"><img src=\"https://colab.research.google.com/assets/colab-badge.svg\" alt=\"Open In Colab\"/></a>"
      ]
    },
    {
      "cell_type": "markdown",
      "metadata": {
        "id": "s9MFhyecaGgq"
      },
      "source": [
        "# Problema das *p-medianas*\n",
        "\n",
        "\"A localização de p-medianas é um problema clássico de otimização combinatória. O objetivo é localizar em uma rede p nós (denominados medianas), de forma a minimizar a soma das distâncias de cada nó de demanda até sua mediana mais próxima\" (Senne e Lorena, 2003). \n",
        "\n",
        "\n",
        "Segundo (Senne e Lorena, 2003), o problema de p-medianas pode ser modelado como o seguinte problema (P) de programação inteira binária:\n",
        "\n",
        "![](https://www.scielo.br/img/revistas/prod/v13n3/a06eq01.gif)\n",
        "\n",
        "sujeito a:\n",
        "\n",
        "![](https://www.scielo.br/img/revistas/prod/v13n3/a06eq02.gif)\n",
        "\n",
        "\n",
        "[Texto completo: Abordagens complementares para problemas de p-medianas](https://www.scielo.br/scielo.php?pid=S0103-65132003000300007&script=sci_arttext&tlng=pt)"
      ]
    },
    {
      "cell_type": "markdown",
      "metadata": {
        "id": "3xSMqY-fYDGy"
      },
      "source": [
        "### Instalando dependências\n",
        "\n",
        "Para executarmos um exemplo do problema das *p-medianas* precisamos das seguintes dependências:\n",
        "* ibmdecisionoptimization\n",
        "* cplex\n",
        "* docplex\n",
        "\n",
        "Para fazer isso vamos utilizar o ambiente virtual *anaconda*, como ele conseguiremos configurar um abiente utilizando um notabook python.\n",
        "\n",
        "*OBS: Para configurar o ambiente com o conda utilizei o seguinte link [Stackoverflow: install conda package to google colab](https://stackoverflow.com/questions/59330876/install-conda-package-to-google-colab)*"
      ]
    },
    {
      "cell_type": "code",
      "metadata": {
        "id": "h5fsiqHicfqO",
        "outputId": "199fb043-9bab-4578-b583-c6525522e751",
        "colab": {
          "base_uri": "https://localhost:8080/"
        }
      },
      "source": [
        "'''\n",
        "There are 2 problems that must be solved:\n",
        "\n",
        "ujson will normally upgrade to python 3.7, must avoid this.\n",
        "path to conda library is changed, must update it.\n",
        "For 1, you need to add python=3.6 to conda install.\n",
        "\n",
        "For 2, you need to add path to /usr/local/lib/python3.6/site-packages\n",
        "\n",
        "Here's the new code\n",
        "'''\n",
        "\n",
        "# same\n",
        "!wget -c https://repo.anaconda.com/miniconda/Miniconda3-4.5.4-Linux-x86_64.sh\n",
        "!chmod +x Miniconda3-4.5.4-Linux-x86_64.sh\n",
        "!bash ./Miniconda3-4.5.4-Linux-x86_64.sh -b -f -p /usr/local\n",
        "# update 1\n",
        "!conda install -q -y --prefix /usr/local python=3.6 ujson\n",
        "# update 2\n",
        "import sys\n",
        "sys.path.append('/usr/local/lib/python3.6/site-packages')"
      ],
      "execution_count": 1,
      "outputs": [
        {
          "output_type": "stream",
          "text": [
            "--2020-11-09 19:28:50--  https://repo.anaconda.com/miniconda/Miniconda3-4.5.4-Linux-x86_64.sh\n",
            "Resolving repo.anaconda.com (repo.anaconda.com)... 104.16.130.3, 104.16.131.3, 2606:4700::6810:8203, ...\n",
            "Connecting to repo.anaconda.com (repo.anaconda.com)|104.16.130.3|:443... connected.\n",
            "HTTP request sent, awaiting response... 416 Requested Range Not Satisfiable\n",
            "\n",
            "    The file is already fully retrieved; nothing to do.\n",
            "\n",
            "PREFIX=/usr/local\n",
            "installing: python-3.6.5-hc3d631a_2 ...\n",
            "Python 3.6.5 :: Anaconda, Inc.\n",
            "installing: ca-certificates-2018.03.07-0 ...\n",
            "installing: conda-env-2.6.0-h36134e3_1 ...\n",
            "installing: libgcc-ng-7.2.0-hdf63c60_3 ...\n",
            "installing: libstdcxx-ng-7.2.0-hdf63c60_3 ...\n",
            "installing: libffi-3.2.1-hd88cf55_4 ...\n",
            "installing: ncurses-6.1-hf484d3e_0 ...\n",
            "installing: openssl-1.0.2o-h20670df_0 ...\n",
            "installing: tk-8.6.7-hc745277_3 ...\n",
            "installing: xz-5.2.4-h14c3975_4 ...\n",
            "installing: yaml-0.1.7-had09818_2 ...\n",
            "installing: zlib-1.2.11-ha838bed_2 ...\n",
            "installing: libedit-3.1.20170329-h6b74fdf_2 ...\n",
            "installing: readline-7.0-ha6073c6_4 ...\n",
            "installing: sqlite-3.23.1-he433501_0 ...\n",
            "installing: asn1crypto-0.24.0-py36_0 ...\n",
            "installing: certifi-2018.4.16-py36_0 ...\n",
            "installing: chardet-3.0.4-py36h0f667ec_1 ...\n",
            "installing: idna-2.6-py36h82fb2a8_1 ...\n",
            "installing: pycosat-0.6.3-py36h0a5515d_0 ...\n",
            "installing: pycparser-2.18-py36hf9f622e_1 ...\n",
            "installing: pysocks-1.6.8-py36_0 ...\n",
            "installing: ruamel_yaml-0.15.37-py36h14c3975_2 ...\n",
            "installing: six-1.11.0-py36h372c433_1 ...\n",
            "installing: cffi-1.11.5-py36h9745a5d_0 ...\n",
            "installing: setuptools-39.2.0-py36_0 ...\n",
            "installing: cryptography-2.2.2-py36h14c3975_0 ...\n",
            "installing: wheel-0.31.1-py36_0 ...\n",
            "installing: pip-10.0.1-py36_0 ...\n",
            "installing: pyopenssl-18.0.0-py36_0 ...\n",
            "installing: urllib3-1.22-py36hbe7ace6_0 ...\n",
            "installing: requests-2.18.4-py36he2e5f8d_1 ...\n",
            "installing: conda-4.5.4-py36_0 ...\n",
            "unlinking: ca-certificates-2020.10.14-0\n",
            "unlinking: certifi-2020.6.20-pyhd3eb1b0_3\n",
            "unlinking: cffi-1.14.3-py36he30daa8_0\n",
            "unlinking: conda-4.9.1-py36h06a4308_0\n",
            "unlinking: cryptography-3.1.1-py36h1ba5d50_0\n",
            "unlinking: libedit-3.1.20191231-h14c3975_1\n",
            "unlinking: libffi-3.3-he6710b0_2\n",
            "unlinking: libgcc-ng-9.1.0-hdf63c60_0\n",
            "unlinking: libstdcxx-ng-9.1.0-hdf63c60_0\n",
            "unlinking: ncurses-6.2-he6710b0_1\n",
            "unlinking: openssl-1.1.1h-h7b6447c_0\n",
            "unlinking: python-3.6.12-hcff3b4d_2\n",
            "unlinking: readline-8.0-h7b6447c_0\n",
            "unlinking: sqlite-3.33.0-h62c20be_0\n",
            "unlinking: tk-8.6.10-hbc83047_0\n",
            "unlinking: xz-5.2.5-h7b6447c_0\n",
            "installation finished.\n",
            "WARNING:\n",
            "    You currently have a PYTHONPATH environment variable set. This may cause\n",
            "    unexpected behavior when running the Python interpreter in Miniconda3.\n",
            "    For best results, please verify that your PYTHONPATH only points to\n",
            "    directories of packages that are compatible with the Python interpreter\n",
            "    in Miniconda3: /usr/local\n",
            "Solving environment: ...working... done\n",
            "\n",
            "## Package Plan ##\n",
            "\n",
            "  environment location: /usr/local\n",
            "\n",
            "  added / updated specs: \n",
            "    - python=3.6\n",
            "    - ujson\n",
            "\n",
            "\n",
            "The following packages will be UPDATED:\n",
            "\n",
            "    ca-certificates: 2018.03.07-0            --> 2020.10.14-0           \n",
            "    certifi:         2018.4.16-py36_0        --> 2020.6.20-pyhd3eb1b0_3 \n",
            "    cffi:            1.11.5-py36h9745a5d_0   --> 1.14.3-py36he30daa8_0  \n",
            "    conda:           4.5.4-py36_0            --> 4.9.1-py36h06a4308_0   \n",
            "    cryptography:    2.2.2-py36h14c3975_0    --> 3.1.1-py36h1ba5d50_0   \n",
            "    libedit:         3.1.20170329-h6b74fdf_2 --> 3.1.20191231-h14c3975_1\n",
            "    libffi:          3.2.1-hd88cf55_4        --> 3.3-he6710b0_2         \n",
            "    libgcc-ng:       7.2.0-hdf63c60_3        --> 9.1.0-hdf63c60_0       \n",
            "    libstdcxx-ng:    7.2.0-hdf63c60_3        --> 9.1.0-hdf63c60_0       \n",
            "    ncurses:         6.1-hf484d3e_0          --> 6.2-he6710b0_1         \n",
            "    openssl:         1.0.2o-h20670df_0       --> 1.1.1h-h7b6447c_0      \n",
            "    python:          3.6.5-hc3d631a_2        --> 3.6.12-hcff3b4d_2      \n",
            "    readline:        7.0-ha6073c6_4          --> 8.0-h7b6447c_0         \n",
            "    sqlite:          3.23.1-he433501_0       --> 3.33.0-h62c20be_0      \n",
            "    tk:              8.6.7-hc745277_3        --> 8.6.10-hbc83047_0      \n",
            "    xz:              5.2.4-h14c3975_4        --> 5.2.5-h7b6447c_0       \n",
            "\n",
            "Preparing transaction: ...working... done\n",
            "Verifying transaction: ...working... done\n",
            "Executing transaction: ...working... done\n"
          ],
          "name": "stdout"
        }
      ]
    },
    {
      "cell_type": "code",
      "metadata": {
        "id": "VIXIviIBL0Uw",
        "outputId": "995ec160-2b76-4bd2-f7b0-f411e42eea65",
        "colab": {
          "base_uri": "https://localhost:8080/"
        }
      },
      "source": [
        "!conda install -c ibmdecisionoptimization cplex docplex --yes\n",
        "from docplex.cp.model import CpoModel"
      ],
      "execution_count": 2,
      "outputs": [
        {
          "output_type": "stream",
          "text": [
            "Collecting package metadata (current_repodata.json): - \b\b\\ \b\b| \b\b/ \b\b- \b\b\\ \b\b| \b\bdone\n",
            "Solving environment: - \b\b\\ \b\b| \b\b/ \b\b- \b\b\\ \b\b| \b\bdone\n",
            "\n",
            "# All requested packages already installed.\n",
            "\n"
          ],
          "name": "stdout"
        }
      ]
    },
    {
      "cell_type": "markdown",
      "metadata": {
        "id": "7TkSK9JTYm-c"
      },
      "source": [
        "### Instâncias de exemplo"
      ]
    },
    {
      "cell_type": "code",
      "metadata": {
        "id": "wytW485FL-Ll"
      },
      "source": [
        "'''\n",
        "p: número de facilidades a serem escolhidas\n",
        "m: clientes\n",
        "n: numeros de medianas possíveis\n",
        "d: matriz de distâncias do cliente para facilidade\n",
        "'''\n",
        "m = 5\n",
        "n = 8\n",
        "p = 3\n",
        "d = [[25.0, 21.67, 21.67, 13.33, 8.33, 18.33, 8.33, 21.67],\n",
        "     [6.67, 16.67, 11.67, 20.0, 15.0, 15.0, 8.33, 15.0],\n",
        "     [6.67, 16.67, 15.0, 13.33, 13.33, 16.67, 21.67, 18.33],\n",
        "     [25.0, 8.33, 11.67, 23.33, 16.67, 21.67, 20.0, 18.33],\n",
        "     [18.33, 21.67, 13.33, 6.67, 21.67, 23.33, 18.33, 8.33]]"
      ],
      "execution_count": 3,
      "outputs": []
    },
    {
      "cell_type": "markdown",
      "metadata": {
        "id": "5_q1RcPCZE7K"
      },
      "source": [
        "### Código Principal"
      ]
    },
    {
      "cell_type": "code",
      "metadata": {
        "id": "78d7jj5tPLOB",
        "outputId": "99ea9d3b-b52a-4b3b-f161-aecdf378b3fa",
        "colab": {
          "base_uri": "https://localhost:8080/"
        }
      },
      "source": [
        "clients = range(m)\n",
        "places = range(n)\n",
        "\n",
        "mdl = CpoModel()\n",
        "\n",
        "x = [[mdl.integer_var(min=0, max=1, name=\"X[{}][{}] {}\".format(place, client, d[client][place])) for place in places] for client in clients]\n",
        "\n",
        "y = [mdl.integer_var(min=0, max=1, name=\"Y[{}] {}\".format(place, place)) for place in places]\n",
        "\n",
        "# Função objetivo\n",
        "fo = mdl.sum(d[i][j]*x[i][j] for i in clients for j in places)\n",
        "mdl.add(mdl.minimize(fo))\n",
        "\n",
        "# sujeito a\n",
        "mdl.add(mdl.sum([x[i][j] for j in places]) == 1 for i in clients)\n",
        "mdl.add(x[i][j]-y[j] <= 0 for i in clients for j in places)\n",
        "mdl.add(mdl.sum(y[j] for j in places) == p)\n",
        "\n",
        "print(\"\\nImprimindo solução....\")\n",
        "msol = mdl.solve(TimeLimit=60, Workers=1)\n",
        "\n",
        "if msol:\n",
        "    print(msol.print_solution())\n",
        "    print(\"Status: \" + msol.get_solve_status())\n",
        "else:\n",
        "    print(\"Nenhuma solução encontrada\")"
      ],
      "execution_count": 4,
      "outputs": [
        {
          "output_type": "stream",
          "text": [
            "\n",
            "Imprimindo solução....\n",
            "-------------------------------------------------------------------------------\n",
            "Model constraints: 46, variables: integer: 48, interval: 0, sequence: 0\n",
            "Solve status: Optimal\n",
            "Search status: SearchCompleted, stop cause: SearchHasNotBeenStopped\n",
            "Solve time: 0.1 sec\n",
            "-------------------------------------------------------------------------------\n",
            "Objective values: (41.67,), bounds: (41.6658,), gaps: (0.0001,)\n",
            "X[0][0] 25.0=0\n",
            "X[0][1] 6.67=1\n",
            "X[0][2] 6.67=1\n",
            "X[0][3] 25.0=0\n",
            "X[0][4] 18.33=0\n",
            "X[1][0] 21.67=0\n",
            "X[1][1] 16.67=0\n",
            "X[1][2] 16.67=0\n",
            "X[1][3] 8.33=1\n",
            "X[1][4] 21.67=0\n",
            "X[2][0] 21.67=0\n",
            "X[2][1] 11.67=0\n",
            "X[2][2] 15.0=0\n",
            "X[2][3] 11.67=0\n",
            "X[2][4] 13.33=0\n",
            "X[3][0] 13.33=1\n",
            "X[3][1] 20.0=0\n",
            "X[3][2] 13.33=0\n",
            "X[3][3] 23.33=0\n",
            "X[3][4] 6.67=1\n",
            "X[4][0] 8.33=0\n",
            "X[4][1] 15.0=0\n",
            "X[4][2] 13.33=0\n",
            "X[4][3] 16.67=0\n",
            "X[4][4] 21.67=0\n",
            "X[5][0] 18.33=0\n",
            "X[5][1] 15.0=0\n",
            "X[5][2] 16.67=0\n",
            "X[5][3] 21.67=0\n",
            "X[5][4] 23.33=0\n",
            "X[6][0] 8.33=0\n",
            "X[6][1] 8.33=0\n",
            "X[6][2] 21.67=0\n",
            "X[6][3] 20.0=0\n",
            "X[6][4] 18.33=0\n",
            "X[7][0] 21.67=0\n",
            "X[7][1] 15.0=0\n",
            "X[7][2] 18.33=0\n",
            "X[7][3] 18.33=0\n",
            "X[7][4] 8.33=0\n",
            "Y[0] 0=1\n",
            "Y[1] 1=1\n",
            "Y[2] 2=0\n",
            "Y[3] 3=1\n",
            "Y[4] 4=0\n",
            "Y[5] 5=0\n",
            "Y[6] 6=0\n",
            "Y[7] 7=0\n",
            "None\n",
            "Status: Optimal\n"
          ],
          "name": "stdout"
        }
      ]
    },
    {
      "cell_type": "markdown",
      "metadata": {
        "id": "xo5bLDJKVl6K"
      },
      "source": [
        "### créditos\n",
        "Este notebook foi feito com auxílio dos vídeos:\n",
        "\n",
        "[1 - Network Optimization | P-Median Problem](https://www.youtube.com/watch?v=GytzJiuYUe4)\n",
        "\n",
        "[Modelando o Problema de p medianas usando o CPLEX (aula)](https://www.youtube.com/watch?v=Fc9SsoPRDxo)\n"
      ]
    },
    {
      "cell_type": "markdown",
      "metadata": {
        "id": "VjjD_jbBbMBa"
      },
      "source": [
        "### Referências\n",
        "* SENNE, Edson Luiz França; LORENA, Luiz Antonio Nogueira. Abordagens complementares para problemas de p-medianas. Production, v. 13, n. 3, p. 78-87, 2003."
      ]
    }
  ]
}